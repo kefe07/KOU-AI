{
 "cells": [
  {
   "cell_type": "markdown",
   "metadata": {},
   "source": [
    "# 1.soru"
   ]
  },
  {
   "cell_type": "code",
   "execution_count": null,
   "metadata": {},
   "outputs": [],
   "source": [
    "def tekcift():\n",
    "    sayi=input(\"bir sayi giriniz:\")\n",
    "    if int(sayi)%2==0:\n",
    "        print(\"{} sayisi cift sayidir\".format(sayi))\n",
    "    else: print(\"{} sayisi tek sayidir\".format(sayi))    \n",
    "   "
   ]
  },
  {
   "cell_type": "markdown",
   "metadata": {},
   "source": [
    "# 2.soru"
   ]
  },
  {
   "cell_type": "code",
   "execution_count": null,
   "metadata": {},
   "outputs": [],
   "source": [
    "def asal():\n",
    "    a=1\n",
    "    while a <= 5: \n",
    "        a+=1\n",
    "    \n",
    "    \n",
    "        birinci=input(\"{}.sayiyi giriniz:\".format(a-1))\n",
    "        if (int (birinci)==2) or (int (birinci)==3) or (int (birinci)==5) or (int(birinci)==7):\n",
    "            print(\"bu sayi asal\")\n",
    "        elif  (int(birinci)==1)  or (int(birinci)%2==0 or int(birinci)%3==0 or int(birinci)%5==0 or int(birinci)%7==0):\n",
    "            print(\"bu sayi asal degil\" )  \n",
    "        else:\n",
    "            print(\"bu sayi asal\")"
   ]
  },
  {
   "cell_type": "markdown",
   "metadata": {},
   "source": [
    "# 3.soru\n"
   ]
  },
  {
   "cell_type": "code",
   "execution_count": null,
   "metadata": {},
   "outputs": [],
   "source": [
    "\"yapamadım\""
   ]
  }
 ],
 "metadata": {
  "kernelspec": {
   "display_name": "Python 3",
   "language": "python",
   "name": "python3"
  },
  "language_info": {
   "codemirror_mode": {
    "name": "ipython",
    "version": 3
   },
   "file_extension": ".py",
   "mimetype": "text/x-python",
   "name": "python",
   "nbconvert_exporter": "python",
   "pygments_lexer": "ipython3",
   "version": "3.8.5"
  }
 },
 "nbformat": 4,
 "nbformat_minor": 4
}
